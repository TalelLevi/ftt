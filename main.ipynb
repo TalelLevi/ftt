{
 "cells": [
  {
   "cell_type": "code",
   "execution_count": 10,
   "id": "dde7880e-1505-4187-927e-95958d68d2aa",
   "metadata": {},
   "outputs": [],
   "source": [
    "import torch\n",
    "import torchvision\n",
    "import os\n",
    "from data_loader.data_loader import Dataset\n",
    "from models.vit import ViT"
   ]
  },
  {
   "cell_type": "code",
   "execution_count": 11,
   "id": "665808d2-3a92-4627-b62f-d248bca4d0f8",
   "metadata": {},
   "outputs": [],
   "source": [
    "v = ViT(\n",
    "    image_size=256,\n",
    "    patch_size=32,\n",
    "    num_classes=1000,\n",
    "    dim=1024,\n",
    "    depth=6,\n",
    "    heads=16,\n",
    "    mlp_dim=2048,\n",
    "    dropout=0.1,\n",
    "    emb_dropout=0.1\n",
    ")"
   ]
  },
  {
   "cell_type": "code",
   "execution_count": 15,
   "id": "b97bb4ab-547b-4f6a-a92a-03fa868f81f8",
   "metadata": {},
   "outputs": [],
   "source": [
    "img = torch.randn(1, 3, 256, 256)\n",
    "\n",
    "preds = v(img)  # (1, 1000)"
   ]
  },
  {
   "cell_type": "code",
   "execution_count": 16,
   "id": "ddfefa91-1ef8-4923-93ba-62e8b6e168f4",
   "metadata": {},
   "outputs": [],
   "source": [
    "# standard imagenet stats\n",
    "imagenet_mean = [0.485, 0.456, 0.406]\n",
    "imagenet_std = [0.229, 0.224, 0.225]"
   ]
  },
  {
   "cell_type": "code",
   "execution_count": 18,
   "id": "f395cc96-c163-4c44-94b9-71b9a509c1c3",
   "metadata": {},
   "outputs": [],
   "source": [
    "transform = torchvision.transforms.Compose([\n",
    "    torchvision.transforms.RandomResizedCrop(224),\n",
    "    torchvision.transforms.RandomHorizontalFlip(),\n",
    "    torchvision.transforms.ToTensor(),\n",
    "    torchvision.transforms.Normalize(mean=imagenet_mean, std=imagenet_std),\n",
    "])"
   ]
  },
  {
   "cell_type": "code",
   "execution_count": 22,
   "id": "81797128-b85f-42dd-a041-8decda8345af",
   "metadata": {},
   "outputs": [],
   "source": [
    "    train_dataset = Dataset(os.path.join(os.path.join('data','imagenette2'), 'train'), transform,\n",
    "                                  preload_data=False, tqdm_bar=True)\n",
    "    # train_eval_dataset = utils.Dataset(os.path.join(args.data_path, 'train'), TwoCropsTransform(clf_train_transforms),\n",
    "    #                                    preload_data=args.preload_data, tqdm_bar=args.tqdm_bar)\n",
    "    val_dataset = Dataset(os.path.join(os.path.join('data','imagenette2'), 'val'), transform,\n",
    "                                preload_data=False, tqdm_bar=True)\n",
    "\n",
    "    train_loader = torch.utils.data.DataLoader(train_dataset,\n",
    "                                               batch_size=4,\n",
    "                                               num_workers=0,\n",
    "                                               drop_last=True, shuffle=True, pin_memory=True)\n"
   ]
  },
  {
   "cell_type": "code",
   "execution_count": 24,
   "id": "be878ffb-d789-491a-8dfe-d5b5326ce9d0",
   "metadata": {},
   "outputs": [
    {
     "name": "stdout",
     "output_type": "stream",
     "text": [
      "torch.Size([4, 3, 224, 224])\n"
     ]
    }
   ],
   "source": [
    "for img,label in train_loader:\n",
    "    print(img.shape)\n",
    "    break"
   ]
  }
 ],
 "metadata": {
  "kernelspec": {
   "display_name": "Python 3 (ipykernel)",
   "language": "python",
   "name": "python3"
  },
  "language_info": {
   "codemirror_mode": {
    "name": "ipython",
    "version": 3
   },
   "file_extension": ".py",
   "mimetype": "text/x-python",
   "name": "python",
   "nbconvert_exporter": "python",
   "pygments_lexer": "ipython3",
   "version": "3.10.4"
  }
 },
 "nbformat": 4,
 "nbformat_minor": 5
}